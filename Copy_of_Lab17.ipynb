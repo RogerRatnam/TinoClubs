{
  "cells": [
    {
      "cell_type": "markdown",
      "metadata": {
        "id": "view-in-github",
        "colab_type": "text"
      },
      "source": [
        "<a href=\"https://colab.research.google.com/github/RogerRatnam/TinoClubs/blob/master/Copy_of_Lab17.ipynb\" target=\"_parent\"><img src=\"https://colab.research.google.com/assets/colab-badge.svg\" alt=\"Open In Colab\"/></a>"
      ]
    },
    {
      "cell_type": "markdown",
      "metadata": {
        "id": "D7pjgiYtff3h"
      },
      "source": [
        "## <a href=\"https://colab.research.google.com/github/LMU-CMSI-1010/lab-notebooks-original/blob/main/Lab17.ipynb\" target=\"_parent\"><img src=\"https://colab.research.google.com/assets/colab-badge.svg\" alt=\"Open In Colab\"/></a>"
      ]
    },
    {
      "cell_type": "markdown",
      "metadata": {
        "id": "9aXfrLXg9seM"
      },
      "source": [
        "# Lab 17 Building a Skateboard Ramp\n",
        "You’ve been doing a lot of skateboarding recently, and now you’re thinking about building your own ramp! But first you need to know how much plywood to buy. If only there was a way to estimate the area under the curve of the skateboard ramp you designed…but wait, there is! Using a technique called [Riemann integration](https://www.khanacademy.org/math/ap-calculus-ab/ab-integration-new/ab-6-2/v/simple-riemann-approximation-using-rectangles), you can break up the polynomial curve that makes up the shape of the ramp into little rectangles, and sum up the area of all those rectangles to estimate the area under the ramp!\n",
        "\n",
        "(if you have never heard of this before, watch the video—it helps!)\n",
        "\n",
        "Let’s start with some imports that we’ll be using throughout this notebook…"
      ]
    },
    {
      "cell_type": "code",
      "execution_count": 1,
      "metadata": {
        "id": "il5_urtt-WvH"
      },
      "outputs": [],
      "source": [
        "import numpy as np\n",
        "import matplotlib.pyplot as plt"
      ]
    },
    {
      "cell_type": "markdown",
      "metadata": {
        "id": "R4J0UVplALT7"
      },
      "source": [
        "## Function Classes\n",
        "For our program design, we have decided to represent our skate ramp curves as `Function` objects. All `Function` objects have a `get_y` method which will return the $y$-coordinate of that curve at the given $x$ coordinate.\n",
        "\n",
        "To get things started, we’ve defined the base `Function` class and have two subclasses: a `Polynomial` which can represent any polynomial function (observe how a polynomial can be defined solely by its coefficients), and a `Sine`(-ish) function that computes $a\\sin x + b$ with an optional coefficient $a$ and offset $b$ (which default to $1$ and $0$ respectively, thus resulting in “plain” $\\sin x$)."
      ]
    },
    {
      "cell_type": "code",
      "execution_count": 2,
      "metadata": {
        "id": "ZGV9yc1D30K9"
      },
      "outputs": [],
      "source": [
        "from math import sin\n",
        "\n",
        "class Function(object):\n",
        "    def get_y(self, x):\n",
        "        # Subclasses must override this.\n",
        "        return None\n",
        "\n",
        "class Polynomial(Function):\n",
        "    def __init__(self, coefficients):\n",
        "        # coefficients must be a list or tuple of numbers.\n",
        "        # coefficients[0] is the coefficient for x^0,\n",
        "        # coefficients[1] is the coefficient for x^1,\n",
        "        # coefficients[n] is the coefficient for x^n.\n",
        "        self.coefficients = coefficients\n",
        "    \n",
        "    def get_y(self, x):\n",
        "        \"\"\"\n",
        "        Calculates y, given x, for a polynomial curve.\n",
        "        \"\"\"\n",
        "        y = 0.0\n",
        "        for power in range(0, len(self.coefficients)):\n",
        "            y = y + self.coefficients[power] * (x ** power)\n",
        "        \n",
        "        return y\n",
        "\n",
        "class SineIsh(Function):\n",
        "    def __init__(self, coefficient=1, offset=0):\n",
        "        # coefficient will be multiplied to the sine\n",
        "        self.coefficient = coefficient\n",
        "\n",
        "        # offset will be added to coefficient * sine\n",
        "        self.offset = offset\n",
        "\n",
        "    def get_y(self, x):\n",
        "        \"\"\"\n",
        "        Calculates y, given x, for a sine curve.\n",
        "        \"\"\"\n",
        "        return self.coefficient * sin(x) + self.offset"
      ]
    },
    {
      "cell_type": "markdown",
      "metadata": {
        "id": "by2JLkj4MMPd"
      },
      "source": [
        "**Optional:** Feel free to make more `Function` subclasses! Do you know any that produce some interesting curves?"
      ]
    },
    {
      "cell_type": "code",
      "execution_count": 4,
      "metadata": {
        "id": "VZAelt6uMZbe"
      },
      "outputs": [],
      "source": [
        "# Use this code block to define more interesting Function subclasses.\n",
        "#\n",
        "# If you define them correctly, you'll be able to \"plug\" them right\n",
        "# into the other code below---that's the power of inheritance!"
      ]
    },
    {
      "cell_type": "markdown",
      "metadata": {
        "id": "MsXi1Fpr8adW"
      },
      "source": [
        "### Function Visualization\n",
        "\n",
        "The awesome `matplotlib` library makes it super easy to try out these functions—and even make more! Test these function classes standalone.\n",
        "\n",
        "You can check your work using [Wolfram Alpha](https://www.wolframalpha.com/examples/mathematics/plotting-and-graphics/) to see if you’re computing the curves correctly!"
      ]
    },
    {
      "cell_type": "code",
      "execution_count": 3,
      "metadata": {
        "colab": {
          "base_uri": "https://localhost:8080/",
          "height": 264
        },
        "id": "HfJJxyeW8e23",
        "outputId": "b857aeb4-0766-45b2-dcee-c31a31aa6568"
      },
      "outputs": [
        {
          "output_type": "display_data",
          "data": {
            "text/plain": [
              "<Figure size 432x288 with 1 Axes>"
            ],
            "image/png": "[encoded data removed]"
          },
          "metadata": {
            "needs_background": "light"
          }
        }
      ],
      "source": [
        "p = Polynomial((-4, 2, 1)) # -4 + 2x + x^2\n",
        "\n",
        "# The Python below is a touch more advanced than we have seen,\n",
        "# but it isn't hard to adapt.\n",
        "domain = np.arange(-5, 5, 0.5) # start, stop, step\n",
        "plot = plt.plot(list(domain), [p.get_y(x) for x in domain])"
      ]
    },
    {
      "cell_type": "code",
      "execution_count": 4,
      "metadata": {
        "colab": {
          "base_uri": "https://localhost:8080/",
          "height": 264
        },
        "id": "8KJ3JIPx_AxU",
        "outputId": "0cb3b278-9258-40be-f6c1-5b47babd2a01"
      },
      "outputs": [
        {
          "output_type": "display_data",
          "data": {
            "text/plain": [
              "<Figure size 432x288 with 1 Axes>"
            ],
            "image/png": "[encoded data removed]"
          },
          "metadata": {
            "needs_background": "light"
          }
        }
      ],
      "source": [
        "s = SineIsh() # Defaults result in sin(x)\n",
        "\n",
        "domain = np.arange(-9, 9, 0.1)\n",
        "plot = plt.plot(list(domain), [s.get_y(x) for x in domain])"
      ]
    },
    {
      "cell_type": "markdown",
      "metadata": {
        "id": "LDO_eY2TAajZ"
      },
      "source": [
        "## The `SkateRamp` Class Itself\n",
        "The `SkateRamp` class accepts a `Function` object (actually a `Function` *subclass* object because a plain `Function` doesn’t do anything!) as its `ramp`. It also takes:\n",
        "* `lower_bound`: the $x$-coordinate where the ramp starts\n",
        "* `upper_bound`: the $x$-coordinate where the ramp ends\n",
        "* `percent_diff`: the percentage difference between estimates for which we can say “close enough!” (defaults to 0.01 or 1%—that means if our last estimate was 120 square units and our latest estimate with one more rectangle is 121 square units, then we can stop because the difference between estimates is less than 1%)\n",
        "The `plot_rects` method has been given to you so that you can visualize the rectangles that have been computed.\n",
        "\n",
        "The task here is to implement `calculate_area_for_rect` and `estimate_area_under_ramp`—read the docstrings below for more information."
      ]
    },
    {
      "cell_type": "code",
      "execution_count": 23,
      "metadata": {
        "id": "wWxxCIoxAczz"
      },
      "outputs": [],
      "source": [
        "class SkateRamp(object):\n",
        "    def __init__(self, ramp, lower_bound, upper_bound, percent_diff=0.01):\n",
        "        # Error-checking.\n",
        "        if upper_bound < lower_bound:\n",
        "            raise ValueError('Upper bound must be > lower bound')\n",
        "\n",
        "        self.ramp = ramp\n",
        "        self.lower_bound = lower_bound\n",
        "        self.upper_bound = upper_bound\n",
        "        self.percent_diff = percent_diff\n",
        "\n",
        "    def plot_rects(self, rects, **kwargs):\n",
        "        \"\"\"\n",
        "        Visualization helper using matplotlib to draw the rectangles\n",
        "        computed by calculate_area_for_rect_count.\n",
        "        \"\"\"\n",
        "        x = [rect[0] for rect in rects]\n",
        "        height = [rect[2] for rect in rects]\n",
        "        width = [rect[1] for rect in rects]\n",
        "        plt.bar(x, height, width, **kwargs)\n",
        "\n",
        "    def calculate_area_for_rect_count(self, rect_count):\n",
        "        \"\"\"\n",
        "        Estimates the area under the curve for a specific number of rectangles.\n",
        "        Returns a tuple consisting of the computed rectangles (midpoint, width,\n",
        "        height) and their total area.\n",
        "        \"\"\"\n",
        "        total_area = 0.0\n",
        "        rect_width = (self.upper_bound - self.lower_bound) / rect_count\n",
        "        rects = []\n",
        "\n",
        "        # Compute rect_count rectangles.\n",
        "        for i in range(rect_count):\n",
        "            # Use the rectangle's midpoint to determine its height.\n",
        "            midpoint = self.lower_bound + (rect_width/2) + i*rect_width # TODO\n",
        "\n",
        "            # The height comes from self.ramp.get_y(midpoint)\n",
        "            # ---that's the value of the function at that\n",
        "            #    x-coordinate!\n",
        "            height = self.ramp.get_y(midpoint)\n",
        "\n",
        "            # The area of the rectangle is its width times its height.\n",
        "            # Add this to the total area so far.\n",
        "            total_area += rect_width * height # TODO\n",
        "\n",
        "            # Each rectangle is its midpoint, width, and height.\n",
        "            rects.append((midpoint, rect_width, height))\n",
        "\n",
        "        return rects, total_area\n",
        "\n",
        "    def estimate_area_under_ramp(self):\n",
        "        \"\"\"\n",
        "        Estimates the area under the curve by calculating the area under an\n",
        "        increasing number of rectangles, until 2 areas are within\n",
        "        self.percent_diff of each other.\n",
        "\n",
        "        Returns a tuple consisting of the number of rectangles required\n",
        "        and the estimated area.\n",
        "        \"\"\"\n",
        "        previous_area = 0.0 # The area we first calculated.\n",
        "        new_area = 0.0 # The latest area we have calculated.\n",
        "        rect_count = 1 # The number of rectangles we're using.\n",
        "\n",
        "        # Keep going until the new estimate is within self.percent_diff\n",
        "        # of the previous estimate.\n",
        "        # TODO\n",
        "          # Try the current number of rectangles!\n",
        "        truth = True\n",
        "        \n",
        "        rects, new_area = self.calculate_area_for_rect_count(rect_count)\n",
        "        #print (previous_area,new_area, 'new area', rects, 'rects')\n",
        "        #print(type(new_area), type(rects))\n",
        "        #print(type(self.percent_diff), type(abs(new_area)), type(previous_area), type(rect_count))\n",
        "\n",
        "        while(truth != False):\n",
        "          # If we are close enough, then we are done!\n",
        "          if abs(new_area-previous_area) < self.percent_diff and rect_count > 1:  # TODO\n",
        "              # Visualize the final set of rectangles.\n",
        "              self.plot_rects(rects, color=(0.5, 0.0, 0.5, 0.25), fill=True)\n",
        "              break\n",
        "         #print('hi')\n",
        "          # We visualize intermediates in a different color, and with\n",
        "          # decreased opacity.\n",
        "          self.plot_rects(rects, color=(0.0, 0.5, 0.0, 0.25), fill=True)\n",
        "\n",
        "          # Get ready for the next estimation---remember the previous area\n",
        "          # and increase the number of rectangles.\n",
        "          previous_area = new_area\n",
        "          rect_count += 1\n",
        "          rects, new_area = self.calculate_area_for_rect_count(rect_count)\n",
        "\n",
        "        return rect_count, new_area"
      ]
    },
    {
      "cell_type": "markdown",
      "metadata": {
        "id": "7g-mkbm9bAF7"
      },
      "source": [
        "### Estimation with a Chosen Number of Rectangles\n",
        "A good way to pace your work is to implement `calculate_area_for_rect_count` first. That way you can see if a single set of rectangles is being computed correctly.\n",
        "\n",
        "You can use [this page from Wolfram MathWorld](https://mathworld.wolfram.com/RiemannSum.html) to check your work!"
      ]
    },
    {
      "cell_type": "code",
      "execution_count": 6,
      "metadata": {
        "colab": {
          "base_uri": "https://localhost:8080/",
          "height": 302
        },
        "id": "3apQZVJZbjFD",
        "outputId": "8e420a49-016b-473b-f734-053f14eb026f"
      },
      "outputs": [
        {
          "output_type": "stream",
          "name": "stdout",
          "text": [
            "How many rectangles would you like to try? 25\n",
            "Estimated area using 25 rectangle(s): 585.6000000000003\n"
          ]
        },
        {
          "output_type": "display_data",
          "data": {
            "text/plain": [
              "<Figure size 432x288 with 1 Axes>"
            ],
            "image/png": "[encoded data removed]"
          },
          "metadata": {
            "needs_background": "light"
          }
        }
      ],
      "source": [
        "num_rects = int(input('How many rectangles would you like to try? '))\n",
        "sr = SkateRamp(Polynomial((-4, 2, 1)), -10, 10)\n",
        "rects, area = sr.calculate_area_for_rect_count(num_rects)\n",
        "sr.plot_rects(rects, edgecolor=(0, 0, 0))\n",
        "print(f'Estimated area using {num_rects} rectangle(s):', area)"
      ]
    },
    {
      "cell_type": "code",
      "execution_count": 11,
      "metadata": {
        "colab": {
          "base_uri": "https://localhost:8080/",
          "height": 302
        },
        "id": "phkmaUbWcZW8",
        "outputId": "7436df74-9422-429c-aec8-204d5f36445c"
      },
      "outputs": [
        {
          "output_type": "stream",
          "name": "stdout",
          "text": [
            "How many rectangles would you like to try? 12\n",
            "Estimated area using 12 rectangle(s): 0.2398604827059938\n"
          ]
        },
        {
          "output_type": "display_data",
          "data": {
            "text/plain": [
              "<Figure size 432x288 with 1 Axes>"
            ],
            "image/png": "[encoded data removed]"
          },
          "metadata": {
            "needs_background": "light"
          }
        }
      ],
      "source": [
        "num_rects = int(input('How many rectangles would you like to try? '))\n",
        "sr = SkateRamp(SineIsh(0.2, 0), -5, 10)\n",
        "rects, area = sr.calculate_area_for_rect_count(num_rects)\n",
        "sr.plot_rects(rects, edgecolor=(0, 0, 0))\n",
        "print(f'Estimated area using {num_rects} rectangle(s):', area)"
      ]
    },
    {
      "cell_type": "markdown",
      "metadata": {
        "id": "0iQMaqtLbSpr"
      },
      "source": [
        "### Full Estimation\n",
        "Once you are confident that `calculate_area_for_rect_count` works correctly, you can move on to `estimate_area_under_ramp`.\n",
        "\n",
        "Don’t hesitate to try out different sets of coefficients or your own `Function` subclasses to see the curve that shows up!"
      ]
    },
    {
      "cell_type": "code",
      "execution_count": 24,
      "metadata": {
        "colab": {
          "base_uri": "https://localhost:8080/",
          "height": 283
        },
        "id": "y0vQzdfvBClH",
        "outputId": "01a5cfa9-af85-4621-b5c3-5b1dd87c7393"
      },
      "outputs": [
        {
          "output_type": "execute_result",
          "data": {
            "text/plain": [
              "(52, 586.4201183431953)"
            ]
          },
          "metadata": {},
          "execution_count": 24
        },
        {
          "output_type": "display_data",
          "data": {
            "text/plain": [
              "<Figure size 432x288 with 1 Axes>"
            ],
            "image/png": "[encoded data removed]"
          },
          "metadata": {
            "needs_background": "light"
          }
        }
      ],
      "source": [
        "sr = SkateRamp(Polynomial((-4, 2, 1)), -10, 10)\n",
        "sr.estimate_area_under_ramp()"
      ]
    },
    {
      "cell_type": "code",
      "execution_count": 25,
      "metadata": {
        "colab": {
          "base_uri": "https://localhost:8080/",
          "height": 283
        },
        "id": "5-f1mUeCMGjK",
        "outputId": "a9bea939-e58f-44de-c04a-6a9a9eb5c37b"
      },
      "outputs": [
        {
          "output_type": "execute_result",
          "data": {
            "text/plain": [
              "(9, 0.25280753504872594)"
            ]
          },
          "metadata": {},
          "execution_count": 25
        },
        {
          "output_type": "display_data",
          "data": {
            "text/plain": [
              "<Figure size 432x288 with 1 Axes>"
            ],
            "image/png": "[encoded data removed]"
          },
          "metadata": {
            "needs_background": "light"
          }
        }
      ],
      "source": [
        "sr = SkateRamp(SineIsh(0.2, 0), -5, 10)\n",
        "sr.estimate_area_under_ramp()"
      ]
    }
  ],
  "metadata": {
    "kernelspec": {
      "display_name": "Python 3",
      "language": "python",
      "name": "python3"
    },
    "language_info": {
      "codemirror_mode": {
        "name": "ipython",
        "version": 3
      },
      "file_extension": ".py",
      "mimetype": "text/x-python",
      "name": "python",
      "nbconvert_exporter": "python",
      "pygments_lexer": "ipython3",
      "version": "3.8.5"
    },
    "colab": {
      "name": "Copy of Lab17.ipynb",
      "provenance": [],
      "collapsed_sections": [],
      "include_colab_link": true
    }
  },
  "nbformat": 4,
  "nbformat_minor": 0
}